{
 "cells": [
  {
   "cell_type": "markdown",
   "metadata": {},
   "source": [
    "# hidden layer 없는 Simple Logitstic Regression model - 1 layer\n",
    "\n",
    "<img src=\"LogReg_kiank.png\" style=\"width:650px;height:400px;\">\n",
    "\n",
    "**알고리즘의 수학적 표현**:\n",
    "\n",
    "한개의 data (사진 한장) $x^{(i)}$ 에 대하여 :\n",
    "$$z^{(i)} = w^T x^{(i)} + b \\tag{1}$$\n",
    "$$\\hat{y}^{(i)} = a^{(i)} = sigmoid(z^{(i)})\\tag{2}$$ \n",
    "$$ \\mathcal{L}(a^{(i)}, y^{(i)}) =  - y^{(i)}  \\log(a^{(i)}) - (1-y^{(i)} )  \\log(1-a^{(i)})\\tag{3}$$\n",
    "\n",
    "cost 는 모든 training data 의 개별 loss 를 합하여 계산 :\n",
    "$$ J = \\frac{1}{m} \\sum_{i=1}^m \\mathcal{L}(a^{(i)}, y^{(i)})\\tag{6}$$\n",
    "\n",
    "<출처> Andrew Ng. - Neural Network and Deep Learning (Coursera)"
   ]
  },
  {
   "cell_type": "code",
   "execution_count": 1,
   "metadata": {},
   "outputs": [],
   "source": [
    "import tensorflow as tf\n",
    "from tensorflow.keras import layers\n",
    "from sklearn.model_selection import train_test_split\n",
    "import pandas as pd\n",
    "import matplotlib.pyplot as plt\n",
    "import numpy as np\n",
    "\n",
    "from lr_utils import load_dataset"
   ]
  },
  {
   "cell_type": "code",
   "execution_count": 2,
   "metadata": {},
   "outputs": [],
   "source": [
    "X_train, X_test, y_train, y_test, classes = load_dataset()"
   ]
  },
  {
   "cell_type": "code",
   "execution_count": 3,
   "metadata": {},
   "outputs": [
    {
     "name": "stdout",
     "output_type": "stream",
     "text": [
      "(209, 64, 64, 3)\n",
      "(50, 64, 64, 3)\n",
      "(1, 209)\n",
      "(1, 50)\n",
      "[b'non-cat' b'cat']\n"
     ]
    }
   ],
   "source": [
    "print(X_train.shape)\n",
    "print(X_test.shape)\n",
    "print(y_train.shape)\n",
    "print(y_test.shape)\n",
    "print(classes)"
   ]
  },
  {
   "cell_type": "markdown",
   "metadata": {},
   "source": [
    "### data 시각화"
   ]
  },
  {
   "cell_type": "code",
   "execution_count": 4,
   "metadata": {},
   "outputs": [
    {
     "name": "stdout",
     "output_type": "stream",
     "text": [
      "y = 1 이므로 cat 사진 입니다.\n"
     ]
    },
    {
     "data": {
      "image/png": "[encoded data removed]",
      "text/plain": [
       "<Figure size 432x288 with 1 Axes>"
      ]
     },
     "metadata": {
      "needs_background": "light"
     },
     "output_type": "display_data"
    }
   ],
   "source": [
    "# Example of picture\n",
    "index = 25\n",
    "plt.imshow(X_train[index])\n",
    "print(\"y = \" + str(y_train[0, index]) + \" 이므로 \" + \n",
    "                  classes[y_train[0, index]].decode(\"utf-8\") + \" 사진 입니다.\")"
   ]
  },
  {
   "cell_type": "markdown",
   "metadata": {},
   "source": [
    "64 x 64 x 3 = 12,288 pixels"
   ]
  },
  {
   "cell_type": "code",
   "execution_count": 5,
   "metadata": {},
   "outputs": [
    {
     "name": "stdout",
     "output_type": "stream",
     "text": [
      "(209, 12288)\n",
      "(209,)\n",
      "(50, 12288)\n",
      "(50,)\n"
     ]
    }
   ],
   "source": [
    "# Flatten image\n",
    "X_train_flatten = X_train.reshape(X_train.shape[0], 64*64*3) / 255.\n",
    "X_test_flatten = X_test.reshape(X_test.shape[0], 64*64*3) / 255.\n",
    "\n",
    "y_train = np.squeeze(y_train)\n",
    "y_test = np.squeeze(y_test)\n",
    "\n",
    "print(X_train_flatten.shape)\n",
    "print(y_train.shape)\n",
    "print(X_test_flatten.shape)\n",
    "print(y_test.shape)"
   ]
  },
  {
   "cell_type": "markdown",
   "metadata": {},
   "source": [
    "### Model 구성"
   ]
  },
  {
   "cell_type": "code",
   "execution_count": 6,
   "metadata": {},
   "outputs": [
    {
     "name": "stdout",
     "output_type": "stream",
     "text": [
      "WARNING:tensorflow:From C:\\Users\\trimu\\Miniconda3\\envs\\py37\\lib\\site-packages\\tensorflow\\python\\ops\\resource_variable_ops.py:435: colocate_with (from tensorflow.python.framework.ops) is deprecated and will be removed in a future version.\n",
      "Instructions for updating:\n",
      "Colocations handled automatically by placer.\n"
     ]
    }
   ],
   "source": [
    "model = tf.keras.Sequential()\n",
    "\n",
    "model.add(layers.Dense(1, input_shape=(12288,)))\n",
    "model.add(layers.Activation(\"sigmoid\"))"
   ]
  },
  {
   "cell_type": "code",
   "execution_count": 7,
   "metadata": {},
   "outputs": [
    {
     "name": "stdout",
     "output_type": "stream",
     "text": [
      "_________________________________________________________________\n",
      "Layer (type)                 Output Shape              Param #   \n",
      "=================================================================\n",
      "dense (Dense)                (None, 1)                 12289     \n",
      "_________________________________________________________________\n",
      "activation (Activation)      (None, 1)                 0         \n",
      "=================================================================\n",
      "Total params: 12,289\n",
      "Trainable params: 12,289\n",
      "Non-trainable params: 0\n",
      "_________________________________________________________________\n"
     ]
    }
   ],
   "source": [
    "model.summary()"
   ]
  },
  {
   "cell_type": "markdown",
   "metadata": {},
   "source": [
    "### model compile"
   ]
  },
  {
   "cell_type": "code",
   "execution_count": 8,
   "metadata": {},
   "outputs": [],
   "source": [
    "model.compile(loss='binary_crossentropy', optimizer='adam', metrics=[\"accuracy\"])"
   ]
  },
  {
   "cell_type": "markdown",
   "metadata": {},
   "source": [
    "### model training"
   ]
  },
  {
   "cell_type": "code",
   "execution_count": 9,
   "metadata": {
    "scrolled": true
   },
   "outputs": [
    {
     "name": "stdout",
     "output_type": "stream",
     "text": [
      "Train on 209 samples, validate on 50 samples\n",
      "WARNING:tensorflow:From C:\\Users\\trimu\\Miniconda3\\envs\\py37\\lib\\site-packages\\tensorflow\\python\\ops\\math_ops.py:3066: to_int32 (from tensorflow.python.ops.math_ops) is deprecated and will be removed in a future version.\n",
      "Instructions for updating:\n",
      "Use tf.cast instead.\n",
      "Epoch 1/100\n",
      "209/209 [==============================] - 0s 887us/sample - loss: 1.0295 - acc: 0.5359 - val_loss: 1.7596 - val_acc: 0.3400\n",
      "Epoch 2/100\n",
      "209/209 [==============================] - 0s 207us/sample - loss: 0.8233 - acc: 0.6555 - val_loss: 0.5655 - val_acc: 0.7200\n",
      "Epoch 3/100\n",
      "209/209 [==============================] - 0s 182us/sample - loss: 0.7226 - acc: 0.6316 - val_loss: 0.7106 - val_acc: 0.4600\n",
      "Epoch 4/100\n",
      "209/209 [==============================] - 0s 191us/sample - loss: 0.6501 - acc: 0.6316 - val_loss: 1.2410 - val_acc: 0.3400\n",
      "Epoch 5/100\n",
      "209/209 [==============================] - 0s 201us/sample - loss: 0.5985 - acc: 0.6890 - val_loss: 0.6520 - val_acc: 0.6000\n",
      "Epoch 6/100\n",
      "209/209 [==============================] - 0s 186us/sample - loss: 0.5342 - acc: 0.7129 - val_loss: 0.7025 - val_acc: 0.5200\n",
      "Epoch 7/100\n",
      "209/209 [==============================] - 0s 191us/sample - loss: 0.5115 - acc: 0.7512 - val_loss: 0.6466 - val_acc: 0.5600\n",
      "Epoch 8/100\n",
      "209/209 [==============================] - 0s 211us/sample - loss: 0.5029 - acc: 0.7512 - val_loss: 0.7305 - val_acc: 0.5400\n",
      "Epoch 9/100\n",
      "209/209 [==============================] - 0s 172us/sample - loss: 0.4795 - acc: 0.8038 - val_loss: 0.7919 - val_acc: 0.5000\n",
      "Epoch 10/100\n",
      "209/209 [==============================] - 0s 182us/sample - loss: 0.4804 - acc: 0.8182 - val_loss: 0.9201 - val_acc: 0.3600\n",
      "Epoch 11/100\n",
      "209/209 [==============================] - 0s 182us/sample - loss: 0.4863 - acc: 0.7847 - val_loss: 0.6563 - val_acc: 0.6200\n",
      "Epoch 12/100\n",
      "209/209 [==============================] - 0s 187us/sample - loss: 0.4327 - acc: 0.8230 - val_loss: 0.6305 - val_acc: 0.6400\n",
      "Epoch 13/100\n",
      "209/209 [==============================] - 0s 177us/sample - loss: 0.4288 - acc: 0.8517 - val_loss: 0.9095 - val_acc: 0.4000\n",
      "Epoch 14/100\n",
      "209/209 [==============================] - 0s 177us/sample - loss: 0.4495 - acc: 0.7895 - val_loss: 1.1519 - val_acc: 0.3200\n",
      "Epoch 15/100\n",
      "209/209 [==============================] - 0s 177us/sample - loss: 0.5075 - acc: 0.7416 - val_loss: 0.8486 - val_acc: 0.4600\n",
      "Epoch 16/100\n",
      "209/209 [==============================] - 0s 191us/sample - loss: 0.4590 - acc: 0.7608 - val_loss: 0.5321 - val_acc: 0.7800\n",
      "Epoch 17/100\n",
      "209/209 [==============================] - 0s 196us/sample - loss: 0.4417 - acc: 0.8086 - val_loss: 0.5232 - val_acc: 0.8000\n",
      "Epoch 18/100\n",
      "209/209 [==============================] - 0s 187us/sample - loss: 0.4088 - acc: 0.7943 - val_loss: 0.5098 - val_acc: 0.8000\n",
      "Epoch 19/100\n",
      "209/209 [==============================] - 0s 211us/sample - loss: 0.4982 - acc: 0.7512 - val_loss: 1.2377 - val_acc: 0.3200\n",
      "Epoch 20/100\n",
      "209/209 [==============================] - 0s 187us/sample - loss: 0.4424 - acc: 0.7943 - val_loss: 1.0507 - val_acc: 0.4200\n",
      "Epoch 21/100\n",
      "209/209 [==============================] - 0s 172us/sample - loss: 0.4646 - acc: 0.7703 - val_loss: 1.2354 - val_acc: 0.3400\n",
      "Epoch 22/100\n",
      "209/209 [==============================] - 0s 177us/sample - loss: 0.5141 - acc: 0.7656 - val_loss: 0.5258 - val_acc: 0.8000\n",
      "Epoch 23/100\n",
      "209/209 [==============================] - 0s 177us/sample - loss: 0.3723 - acc: 0.8373 - val_loss: 0.5744 - val_acc: 0.7200\n",
      "Epoch 24/100\n",
      "209/209 [==============================] - 0s 187us/sample - loss: 0.3609 - acc: 0.8469 - val_loss: 0.5476 - val_acc: 0.7400\n",
      "Epoch 25/100\n",
      "209/209 [==============================] - 0s 182us/sample - loss: 0.3478 - acc: 0.8708 - val_loss: 0.5246 - val_acc: 0.8000\n",
      "Epoch 26/100\n",
      "209/209 [==============================] - 0s 187us/sample - loss: 0.3785 - acc: 0.8373 - val_loss: 0.6702 - val_acc: 0.6400\n",
      "Epoch 27/100\n",
      "209/209 [==============================] - 0s 172us/sample - loss: 0.3277 - acc: 0.8995 - val_loss: 0.7942 - val_acc: 0.5600\n",
      "Epoch 28/100\n",
      "209/209 [==============================] - 0s 172us/sample - loss: 0.3073 - acc: 0.9330 - val_loss: 0.7268 - val_acc: 0.6000\n",
      "Epoch 29/100\n",
      "209/209 [==============================] - 0s 177us/sample - loss: 0.3325 - acc: 0.8517 - val_loss: 0.5424 - val_acc: 0.7800\n",
      "Epoch 30/100\n",
      "209/209 [==============================] - 0s 182us/sample - loss: 0.3315 - acc: 0.8756 - val_loss: 0.5233 - val_acc: 0.8000\n",
      "Epoch 31/100\n",
      "209/209 [==============================] - 0s 187us/sample - loss: 0.3555 - acc: 0.8517 - val_loss: 0.5513 - val_acc: 0.7800\n",
      "Epoch 32/100\n",
      "209/209 [==============================] - 0s 172us/sample - loss: 0.3257 - acc: 0.8756 - val_loss: 0.9140 - val_acc: 0.4800\n",
      "Epoch 33/100\n",
      "209/209 [==============================] - 0s 172us/sample - loss: 0.3101 - acc: 0.8900 - val_loss: 0.8844 - val_acc: 0.5200\n",
      "Epoch 34/100\n",
      "209/209 [==============================] - 0s 182us/sample - loss: 0.3114 - acc: 0.8900 - val_loss: 0.5997 - val_acc: 0.7400\n",
      "Epoch 35/100\n",
      "209/209 [==============================] - 0s 168us/sample - loss: 0.2683 - acc: 0.9330 - val_loss: 0.6033 - val_acc: 0.7400\n",
      "Epoch 36/100\n",
      "209/209 [==============================] - 0s 177us/sample - loss: 0.2669 - acc: 0.9330 - val_loss: 0.9438 - val_acc: 0.5000\n",
      "Epoch 37/100\n",
      "209/209 [==============================] - 0s 182us/sample - loss: 0.2975 - acc: 0.8900 - val_loss: 0.6751 - val_acc: 0.7000\n",
      "Epoch 38/100\n",
      "209/209 [==============================] - 0s 187us/sample - loss: 0.2859 - acc: 0.9091 - val_loss: 0.5714 - val_acc: 0.7800\n",
      "Epoch 39/100\n",
      "209/209 [==============================] - 0s 215us/sample - loss: 0.2760 - acc: 0.9234 - val_loss: 0.5711 - val_acc: 0.7400\n",
      "Epoch 40/100\n",
      "209/209 [==============================] - 0s 172us/sample - loss: 0.2960 - acc: 0.8900 - val_loss: 0.5798 - val_acc: 0.7400\n",
      "Epoch 41/100\n",
      "209/209 [==============================] - 0s 187us/sample - loss: 0.2961 - acc: 0.9187 - val_loss: 0.6832 - val_acc: 0.7000\n",
      "Epoch 42/100\n",
      "209/209 [==============================] - 0s 172us/sample - loss: 0.2521 - acc: 0.9426 - val_loss: 0.6748 - val_acc: 0.7200\n",
      "Epoch 43/100\n",
      "209/209 [==============================] - 0s 177us/sample - loss: 0.2352 - acc: 0.9474 - val_loss: 0.6369 - val_acc: 0.7400\n",
      "Epoch 44/100\n",
      "209/209 [==============================] - 0s 187us/sample - loss: 0.2246 - acc: 0.9761 - val_loss: 1.0158 - val_acc: 0.4600\n",
      "Epoch 45/100\n",
      "209/209 [==============================] - 0s 177us/sample - loss: 0.2772 - acc: 0.8852 - val_loss: 0.6265 - val_acc: 0.7200\n",
      "Epoch 46/100\n",
      "209/209 [==============================] - 0s 182us/sample - loss: 0.2233 - acc: 0.9522 - val_loss: 0.7331 - val_acc: 0.7200\n",
      "Epoch 47/100\n",
      "209/209 [==============================] - 0s 201us/sample - loss: 0.2290 - acc: 0.9474 - val_loss: 0.7885 - val_acc: 0.6000\n",
      "Epoch 48/100\n",
      "209/209 [==============================] - 0s 177us/sample - loss: 0.2304 - acc: 0.9569 - val_loss: 0.6513 - val_acc: 0.7600\n",
      "Epoch 49/100\n",
      "209/209 [==============================] - 0s 172us/sample - loss: 0.2329 - acc: 0.9330 - val_loss: 0.6480 - val_acc: 0.7400\n",
      "Epoch 50/100\n",
      "209/209 [==============================] - 0s 182us/sample - loss: 0.2120 - acc: 0.9665 - val_loss: 0.6689 - val_acc: 0.7200\n",
      "Epoch 51/100\n",
      "209/209 [==============================] - 0s 191us/sample - loss: 0.2189 - acc: 0.9426 - val_loss: 0.6917 - val_acc: 0.7200\n",
      "Epoch 52/100\n",
      "209/209 [==============================] - 0s 186us/sample - loss: 0.2276 - acc: 0.9522 - val_loss: 0.7899 - val_acc: 0.6200\n",
      "Epoch 53/100\n",
      "209/209 [==============================] - 0s 177us/sample - loss: 0.2286 - acc: 0.9378 - val_loss: 0.9617 - val_acc: 0.5200\n",
      "Epoch 54/100\n",
      "209/209 [==============================] - 0s 182us/sample - loss: 0.2505 - acc: 0.9139 - val_loss: 0.7498 - val_acc: 0.7200\n",
      "Epoch 55/100\n",
      "209/209 [==============================] - 0s 192us/sample - loss: 0.2093 - acc: 0.9665 - val_loss: 0.6869 - val_acc: 0.7200\n",
      "Epoch 56/100\n",
      "209/209 [==============================] - 0s 172us/sample - loss: 0.1968 - acc: 0.9665 - val_loss: 0.6393 - val_acc: 0.7400\n",
      "Epoch 57/100\n",
      "209/209 [==============================] - 0s 182us/sample - loss: 0.1997 - acc: 0.9617 - val_loss: 0.7096 - val_acc: 0.7400\n",
      "Epoch 58/100\n"
     ]
    },
    {
     "name": "stdout",
     "output_type": "stream",
     "text": [
      "209/209 [==============================] - 0s 182us/sample - loss: 0.2004 - acc: 0.9522 - val_loss: 0.8425 - val_acc: 0.6200\n",
      "Epoch 59/100\n",
      "209/209 [==============================] - 0s 182us/sample - loss: 0.1994 - acc: 0.9665 - val_loss: 0.7610 - val_acc: 0.7200\n",
      "Epoch 60/100\n",
      "209/209 [==============================] - 0s 172us/sample - loss: 0.1878 - acc: 0.9665 - val_loss: 0.7476 - val_acc: 0.7200\n",
      "Epoch 61/100\n",
      "209/209 [==============================] - 0s 168us/sample - loss: 0.1983 - acc: 0.9569 - val_loss: 0.6850 - val_acc: 0.7400\n",
      "Epoch 62/100\n",
      "209/209 [==============================] - 0s 177us/sample - loss: 0.1943 - acc: 0.9522 - val_loss: 0.6300 - val_acc: 0.7200\n",
      "Epoch 63/100\n",
      "209/209 [==============================] - 0s 167us/sample - loss: 0.2283 - acc: 0.9187 - val_loss: 0.6642 - val_acc: 0.7200\n",
      "Epoch 64/100\n",
      "209/209 [==============================] - 0s 177us/sample - loss: 0.2515 - acc: 0.8900 - val_loss: 1.0724 - val_acc: 0.5200\n",
      "Epoch 65/100\n",
      "209/209 [==============================] - 0s 182us/sample - loss: 0.2486 - acc: 0.9234 - val_loss: 1.3740 - val_acc: 0.4000\n",
      "Epoch 66/100\n",
      "209/209 [==============================] - 0s 172us/sample - loss: 0.2817 - acc: 0.8708 - val_loss: 0.6481 - val_acc: 0.7800\n",
      "Epoch 67/100\n",
      "209/209 [==============================] - 0s 167us/sample - loss: 0.2399 - acc: 0.9187 - val_loss: 0.6837 - val_acc: 0.7200\n",
      "Epoch 68/100\n",
      "209/209 [==============================] - 0s 182us/sample - loss: 0.1865 - acc: 0.9330 - val_loss: 0.8617 - val_acc: 0.6600\n",
      "Epoch 69/100\n",
      "209/209 [==============================] - 0s 168us/sample - loss: 0.1652 - acc: 0.9713 - val_loss: 0.8172 - val_acc: 0.7200\n",
      "Epoch 70/100\n",
      "209/209 [==============================] - 0s 196us/sample - loss: 0.1790 - acc: 0.9569 - val_loss: 0.7846 - val_acc: 0.7200\n",
      "Epoch 71/100\n",
      "209/209 [==============================] - 0s 249us/sample - loss: 0.1825 - acc: 0.9522 - val_loss: 0.7161 - val_acc: 0.7000\n",
      "Epoch 72/100\n",
      "209/209 [==============================] - 0s 177us/sample - loss: 0.1645 - acc: 0.9761 - val_loss: 0.7712 - val_acc: 0.7200\n",
      "Epoch 73/100\n",
      "209/209 [==============================] - 0s 177us/sample - loss: 0.1570 - acc: 0.9809 - val_loss: 0.6898 - val_acc: 0.7200\n",
      "Epoch 74/100\n",
      "209/209 [==============================] - 0s 167us/sample - loss: 0.1578 - acc: 0.9761 - val_loss: 0.7668 - val_acc: 0.7200\n",
      "Epoch 75/100\n",
      "209/209 [==============================] - 0s 172us/sample - loss: 0.1515 - acc: 0.9761 - val_loss: 0.7921 - val_acc: 0.7200\n",
      "Epoch 76/100\n",
      "209/209 [==============================] - 0s 172us/sample - loss: 0.1546 - acc: 0.9761 - val_loss: 0.7233 - val_acc: 0.7200\n",
      "Epoch 77/100\n",
      "209/209 [==============================] - 0s 172us/sample - loss: 0.1546 - acc: 0.9856 - val_loss: 0.6894 - val_acc: 0.7200\n",
      "Epoch 78/100\n",
      "209/209 [==============================] - 0s 172us/sample - loss: 0.1612 - acc: 0.9761 - val_loss: 0.8701 - val_acc: 0.7000\n",
      "Epoch 79/100\n",
      "209/209 [==============================] - 0s 177us/sample - loss: 0.1570 - acc: 0.9761 - val_loss: 0.9684 - val_acc: 0.5800\n",
      "Epoch 80/100\n",
      "209/209 [==============================] - 0s 177us/sample - loss: 0.1576 - acc: 0.9761 - val_loss: 0.7271 - val_acc: 0.7200\n",
      "Epoch 81/100\n",
      "209/209 [==============================] - 0s 172us/sample - loss: 0.1405 - acc: 0.9809 - val_loss: 0.8237 - val_acc: 0.7000\n",
      "Epoch 82/100\n",
      "209/209 [==============================] - 0s 196us/sample - loss: 0.1389 - acc: 0.9809 - val_loss: 0.7881 - val_acc: 0.7000\n",
      "Epoch 83/100\n",
      "209/209 [==============================] - 0s 172us/sample - loss: 0.1387 - acc: 0.9809 - val_loss: 0.7895 - val_acc: 0.7000\n",
      "Epoch 84/100\n",
      "209/209 [==============================] - 0s 177us/sample - loss: 0.1445 - acc: 0.9856 - val_loss: 0.7235 - val_acc: 0.7200\n",
      "Epoch 85/100\n",
      "209/209 [==============================] - 0s 177us/sample - loss: 0.1360 - acc: 0.9856 - val_loss: 0.8544 - val_acc: 0.7000\n",
      "Epoch 86/100\n",
      "209/209 [==============================] - 0s 172us/sample - loss: 0.1315 - acc: 0.9809 - val_loss: 0.7147 - val_acc: 0.7200\n",
      "Epoch 87/100\n",
      "209/209 [==============================] - 0s 201us/sample - loss: 0.1364 - acc: 0.9904 - val_loss: 0.9321 - val_acc: 0.6200\n",
      "Epoch 88/100\n",
      "209/209 [==============================] - 0s 206us/sample - loss: 0.1347 - acc: 0.9809 - val_loss: 0.7787 - val_acc: 0.7200\n",
      "Epoch 89/100\n",
      "209/209 [==============================] - 0s 177us/sample - loss: 0.1286 - acc: 0.9856 - val_loss: 0.7394 - val_acc: 0.7200\n",
      "Epoch 90/100\n",
      "209/209 [==============================] - 0s 234us/sample - loss: 0.1310 - acc: 0.9761 - val_loss: 0.8822 - val_acc: 0.7000\n",
      "Epoch 91/100\n",
      "209/209 [==============================] - 0s 220us/sample - loss: 0.1253 - acc: 0.9904 - val_loss: 0.7201 - val_acc: 0.7200\n",
      "Epoch 92/100\n",
      "209/209 [==============================] - 0s 220us/sample - loss: 0.1307 - acc: 0.9809 - val_loss: 0.8513 - val_acc: 0.7000\n",
      "Epoch 93/100\n",
      "209/209 [==============================] - 0s 215us/sample - loss: 0.1244 - acc: 0.9904 - val_loss: 0.8272 - val_acc: 0.7000\n",
      "Epoch 94/100\n",
      "209/209 [==============================] - 0s 211us/sample - loss: 0.1250 - acc: 0.9809 - val_loss: 0.7689 - val_acc: 0.7400\n",
      "Epoch 95/100\n",
      "209/209 [==============================] - 0s 230us/sample - loss: 0.1210 - acc: 0.9856 - val_loss: 1.2049 - val_acc: 0.5000\n",
      "Epoch 96/100\n",
      "209/209 [==============================] - 0s 211us/sample - loss: 0.1669 - acc: 0.9474 - val_loss: 0.8148 - val_acc: 0.7000\n",
      "Epoch 97/100\n",
      "209/209 [==============================] - 0s 206us/sample - loss: 0.1305 - acc: 0.9904 - val_loss: 0.7507 - val_acc: 0.7200\n",
      "Epoch 98/100\n",
      "209/209 [==============================] - 0s 211us/sample - loss: 0.1228 - acc: 0.9809 - val_loss: 0.8371 - val_acc: 0.7000\n",
      "Epoch 99/100\n",
      "209/209 [==============================] - 0s 206us/sample - loss: 0.1172 - acc: 0.9904 - val_loss: 0.8382 - val_acc: 0.7200\n",
      "Epoch 100/100\n",
      "209/209 [==============================] - 0s 201us/sample - loss: 0.1175 - acc: 0.9856 - val_loss: 0.9107 - val_acc: 0.6600\n"
     ]
    },
    {
     "data": {
      "text/plain": [
       "<tensorflow.python.keras.callbacks.History at 0x16075dcb630>"
      ]
     },
     "execution_count": 9,
     "metadata": {},
     "output_type": "execute_result"
    }
   ],
   "source": [
    "model.fit(X_train_flatten, y_train, epochs=100, validation_data=(X_test_flatten, y_test))"
   ]
  },
  {
   "cell_type": "code",
   "execution_count": 10,
   "metadata": {},
   "outputs": [
    {
     "name": "stdout",
     "output_type": "stream",
     "text": [
      "50/50 [==============================] - 0s 379us/sample - loss: 0.9107 - acc: 0.6600\n"
     ]
    }
   ],
   "source": [
    "score = model.evaluate(X_test_flatten, y_test)"
   ]
  },
  {
   "cell_type": "code",
   "execution_count": 11,
   "metadata": {},
   "outputs": [
    {
     "name": "stdout",
     "output_type": "stream",
     "text": [
      "['loss', 'acc']\n",
      "Test score : 0.91\n",
      "Test accuracy : 0.66\n"
     ]
    }
   ],
   "source": [
    "print(model.metrics_names)\n",
    "print(\"Test score : {:.2f}\".format(score[0]))\n",
    "print(\"Test accuracy : {:.2f}\".format(score[1]))"
   ]
  },
  {
   "cell_type": "code",
   "execution_count": 12,
   "metadata": {},
   "outputs": [
    {
     "data": {
      "text/plain": [
       "33"
      ]
     },
     "execution_count": 12,
     "metadata": {},
     "output_type": "execute_result"
    }
   ],
   "source": [
    "sum(y_test)"
   ]
  },
  {
   "cell_type": "code",
   "execution_count": 13,
   "metadata": {},
   "outputs": [
    {
     "data": {
      "text/plain": [
       "26"
      ]
     },
     "execution_count": 13,
     "metadata": {},
     "output_type": "execute_result"
    }
   ],
   "source": [
    "y_pred = model.predict(X_test_flatten)\n",
    "np.sum((y_pred > 0.5))"
   ]
  },
  {
   "cell_type": "markdown",
   "metadata": {},
   "source": [
    "# 1 hidden layer Logitstic Regression model - 2 layers\n",
    "\n",
    "<img src=\"LogReg_2layers.png\" style=\"width:650px;height:400px;\">\n"
   ]
  },
  {
   "cell_type": "code",
   "execution_count": 14,
   "metadata": {},
   "outputs": [],
   "source": [
    "tf.keras.backend.clear_session()"
   ]
  },
  {
   "cell_type": "code",
   "execution_count": 15,
   "metadata": {},
   "outputs": [],
   "source": [
    "model = tf.keras.Sequential()\n",
    "\n",
    "model.add(layers.Dense(7, input_shape=(12288,)))\n",
    "model.add(layers.Activation('relu'))\n",
    "model.add(layers.Dense(1))\n",
    "model.add(layers.Activation(\"sigmoid\"))"
   ]
  },
  {
   "cell_type": "code",
   "execution_count": 16,
   "metadata": {},
   "outputs": [
    {
     "name": "stdout",
     "output_type": "stream",
     "text": [
      "_________________________________________________________________\n",
      "Layer (type)                 Output Shape              Param #   \n",
      "=================================================================\n",
      "dense (Dense)                (None, 7)                 86023     \n",
      "_________________________________________________________________\n",
      "activation (Activation)      (None, 7)                 0         \n",
      "_________________________________________________________________\n",
      "dense_1 (Dense)              (None, 1)                 8         \n",
      "_________________________________________________________________\n",
      "activation_1 (Activation)    (None, 1)                 0         \n",
      "=================================================================\n",
      "Total params: 86,031\n",
      "Trainable params: 86,031\n",
      "Non-trainable params: 0\n",
      "_________________________________________________________________\n"
     ]
    }
   ],
   "source": [
    "model.summary()"
   ]
  },
  {
   "cell_type": "code",
   "execution_count": 17,
   "metadata": {},
   "outputs": [],
   "source": [
    "model.compile(loss='binary_crossentropy', optimizer='adam', metrics=[\"accuracy\"])"
   ]
  },
  {
   "cell_type": "code",
   "execution_count": 18,
   "metadata": {
    "scrolled": true
   },
   "outputs": [
    {
     "name": "stdout",
     "output_type": "stream",
     "text": [
      "Train on 209 samples, validate on 50 samples\n",
      "Epoch 1/100\n",
      "209/209 [==============================] - 0s 1ms/sample - loss: 0.8339 - acc: 0.5885 - val_loss: 1.1641 - val_acc: 0.3400\n",
      "Epoch 2/100\n",
      "209/209 [==============================] - 0s 265us/sample - loss: 0.6849 - acc: 0.5550 - val_loss: 1.1116 - val_acc: 0.3400\n",
      "Epoch 3/100\n",
      "209/209 [==============================] - 0s 225us/sample - loss: 0.6612 - acc: 0.5789 - val_loss: 1.2437 - val_acc: 0.3400\n",
      "Epoch 4/100\n",
      "209/209 [==============================] - 0s 211us/sample - loss: 0.6446 - acc: 0.6746 - val_loss: 0.5906 - val_acc: 0.7200\n",
      "Epoch 5/100\n",
      "209/209 [==============================] - 0s 206us/sample - loss: 0.5806 - acc: 0.6986 - val_loss: 0.6270 - val_acc: 0.6200\n",
      "Epoch 6/100\n",
      "209/209 [==============================] - 0s 215us/sample - loss: 0.5649 - acc: 0.6938 - val_loss: 1.0868 - val_acc: 0.3400\n",
      "Epoch 7/100\n",
      "209/209 [==============================] - 0s 225us/sample - loss: 0.5489 - acc: 0.6986 - val_loss: 0.6586 - val_acc: 0.5600\n",
      "Epoch 8/100\n",
      "209/209 [==============================] - 0s 220us/sample - loss: 0.5281 - acc: 0.7512 - val_loss: 0.5896 - val_acc: 0.6400\n",
      "Epoch 9/100\n",
      "209/209 [==============================] - 0s 215us/sample - loss: 0.5360 - acc: 0.7560 - val_loss: 0.5104 - val_acc: 0.7800\n",
      "Epoch 10/100\n",
      "209/209 [==============================] - 0s 215us/sample - loss: 0.4697 - acc: 0.8086 - val_loss: 0.8586 - val_acc: 0.4000\n",
      "Epoch 11/100\n",
      "209/209 [==============================] - 0s 239us/sample - loss: 0.4685 - acc: 0.7895 - val_loss: 0.5401 - val_acc: 0.7000\n",
      "Epoch 12/100\n",
      "209/209 [==============================] - 0s 244us/sample - loss: 0.4569 - acc: 0.8086 - val_loss: 0.6783 - val_acc: 0.5800\n",
      "Epoch 13/100\n",
      "209/209 [==============================] - 0s 249us/sample - loss: 0.4529 - acc: 0.8134 - val_loss: 0.7232 - val_acc: 0.5600\n",
      "Epoch 14/100\n",
      "209/209 [==============================] - 0s 215us/sample - loss: 0.4665 - acc: 0.7847 - val_loss: 0.5757 - val_acc: 0.6400\n",
      "Epoch 15/100\n",
      "209/209 [==============================] - 0s 201us/sample - loss: 0.4865 - acc: 0.7703 - val_loss: 0.5215 - val_acc: 0.8000\n",
      "Epoch 16/100\n",
      "209/209 [==============================] - 0s 201us/sample - loss: 0.4437 - acc: 0.7751 - val_loss: 0.4963 - val_acc: 0.8200\n",
      "Epoch 17/100\n",
      "209/209 [==============================] - 0s 211us/sample - loss: 0.4353 - acc: 0.8086 - val_loss: 0.8802 - val_acc: 0.4200\n",
      "Epoch 18/100\n",
      "209/209 [==============================] - 0s 206us/sample - loss: 0.4423 - acc: 0.8038 - val_loss: 0.8934 - val_acc: 0.4200\n",
      "Epoch 19/100\n",
      "209/209 [==============================] - 0s 206us/sample - loss: 0.4115 - acc: 0.8278 - val_loss: 0.6567 - val_acc: 0.5600\n",
      "Epoch 20/100\n",
      "209/209 [==============================] - 0s 211us/sample - loss: 0.4052 - acc: 0.8038 - val_loss: 0.5052 - val_acc: 0.8000\n",
      "Epoch 21/100\n",
      "209/209 [==============================] - 0s 211us/sample - loss: 0.4194 - acc: 0.8182 - val_loss: 0.4912 - val_acc: 0.8200\n",
      "Epoch 22/100\n",
      "209/209 [==============================] - 0s 201us/sample - loss: 0.4233 - acc: 0.8134 - val_loss: 0.4907 - val_acc: 0.8200\n",
      "Epoch 23/100\n",
      "209/209 [==============================] - 0s 215us/sample - loss: 0.4449 - acc: 0.7943 - val_loss: 1.0992 - val_acc: 0.3800\n",
      "Epoch 24/100\n",
      "209/209 [==============================] - 0s 215us/sample - loss: 0.3984 - acc: 0.8517 - val_loss: 0.7557 - val_acc: 0.5600\n",
      "Epoch 25/100\n",
      "209/209 [==============================] - 0s 211us/sample - loss: 0.4092 - acc: 0.8038 - val_loss: 0.4947 - val_acc: 0.8200\n",
      "Epoch 26/100\n",
      "209/209 [==============================] - 0s 210us/sample - loss: 0.4146 - acc: 0.8373 - val_loss: 0.5203 - val_acc: 0.7800\n",
      "Epoch 27/100\n",
      "209/209 [==============================] - 0s 206us/sample - loss: 0.3422 - acc: 0.8852 - val_loss: 0.6714 - val_acc: 0.6600\n",
      "Epoch 28/100\n",
      "209/209 [==============================] - 0s 215us/sample - loss: 0.3401 - acc: 0.8900 - val_loss: 0.8068 - val_acc: 0.5200\n",
      "Epoch 29/100\n",
      "209/209 [==============================] - 0s 215us/sample - loss: 0.3296 - acc: 0.8900 - val_loss: 0.5424 - val_acc: 0.7600\n",
      "Epoch 30/100\n",
      "209/209 [==============================] - 0s 230us/sample - loss: 0.3683 - acc: 0.8469 - val_loss: 0.5804 - val_acc: 0.7400\n",
      "Epoch 31/100\n",
      "209/209 [==============================] - 0s 244us/sample - loss: 0.3525 - acc: 0.8804 - val_loss: 0.9249 - val_acc: 0.4600\n",
      "Epoch 32/100\n",
      "209/209 [==============================] - 0s 220us/sample - loss: 0.3417 - acc: 0.8852 - val_loss: 0.6827 - val_acc: 0.6600\n",
      "Epoch 33/100\n",
      "209/209 [==============================] - 0s 215us/sample - loss: 0.3075 - acc: 0.8900 - val_loss: 0.5210 - val_acc: 0.7800\n",
      "Epoch 34/100\n",
      "209/209 [==============================] - 0s 258us/sample - loss: 0.3179 - acc: 0.8900 - val_loss: 0.5375 - val_acc: 0.7400\n",
      "Epoch 35/100\n",
      "209/209 [==============================] - 0s 220us/sample - loss: 0.3453 - acc: 0.8565 - val_loss: 0.7176 - val_acc: 0.5800\n",
      "Epoch 36/100\n",
      "209/209 [==============================] - 0s 230us/sample - loss: 0.3027 - acc: 0.8900 - val_loss: 0.9278 - val_acc: 0.4800\n",
      "Epoch 37/100\n",
      "209/209 [==============================] - 0s 215us/sample - loss: 0.3566 - acc: 0.8278 - val_loss: 0.6106 - val_acc: 0.7400\n",
      "Epoch 38/100\n",
      "209/209 [==============================] - 0s 230us/sample - loss: 0.3170 - acc: 0.8660 - val_loss: 0.5246 - val_acc: 0.7600\n",
      "Epoch 39/100\n",
      "209/209 [==============================] - 0s 220us/sample - loss: 0.2994 - acc: 0.8804 - val_loss: 0.6749 - val_acc: 0.6400\n",
      "Epoch 40/100\n",
      "209/209 [==============================] - 0s 220us/sample - loss: 0.3291 - acc: 0.8900 - val_loss: 1.2061 - val_acc: 0.3600\n",
      "Epoch 41/100\n",
      "209/209 [==============================] - 0s 230us/sample - loss: 0.3365 - acc: 0.8469 - val_loss: 0.7545 - val_acc: 0.6000\n",
      "Epoch 42/100\n",
      "209/209 [==============================] - 0s 263us/sample - loss: 0.3075 - acc: 0.8852 - val_loss: 0.5551 - val_acc: 0.7400\n",
      "Epoch 43/100\n",
      "209/209 [==============================] - 0s 254us/sample - loss: 0.2702 - acc: 0.9091 - val_loss: 0.5155 - val_acc: 0.7800\n",
      "Epoch 44/100\n",
      "209/209 [==============================] - 0s 258us/sample - loss: 0.3051 - acc: 0.8612 - val_loss: 0.8066 - val_acc: 0.5800\n",
      "Epoch 45/100\n",
      "209/209 [==============================] - 0s 239us/sample - loss: 0.2747 - acc: 0.9139 - val_loss: 0.8736 - val_acc: 0.5600\n",
      "Epoch 46/100\n",
      "209/209 [==============================] - 0s 220us/sample - loss: 0.2359 - acc: 0.9234 - val_loss: 0.5413 - val_acc: 0.7600\n",
      "Epoch 47/100\n",
      "209/209 [==============================] - 0s 211us/sample - loss: 0.2350 - acc: 0.9378 - val_loss: 0.7741 - val_acc: 0.6000\n",
      "Epoch 48/100\n",
      "209/209 [==============================] - 0s 201us/sample - loss: 0.2424 - acc: 0.9282 - val_loss: 0.6643 - val_acc: 0.7600\n",
      "Epoch 49/100\n",
      "209/209 [==============================] - 0s 220us/sample - loss: 0.2381 - acc: 0.9187 - val_loss: 0.5534 - val_acc: 0.7400\n",
      "Epoch 50/100\n",
      "209/209 [==============================] - 0s 220us/sample - loss: 0.2367 - acc: 0.9282 - val_loss: 0.6852 - val_acc: 0.7400\n",
      "Epoch 51/100\n",
      "209/209 [==============================] - 0s 220us/sample - loss: 0.2299 - acc: 0.9426 - val_loss: 0.7831 - val_acc: 0.6400\n",
      "Epoch 52/100\n",
      "209/209 [==============================] - 0s 210us/sample - loss: 0.2171 - acc: 0.9569 - val_loss: 0.6570 - val_acc: 0.7600\n",
      "Epoch 53/100\n",
      "209/209 [==============================] - 0s 211us/sample - loss: 0.2118 - acc: 0.9569 - val_loss: 0.8757 - val_acc: 0.5800\n",
      "Epoch 54/100\n",
      "209/209 [==============================] - 0s 215us/sample - loss: 0.2478 - acc: 0.8947 - val_loss: 0.5596 - val_acc: 0.7600\n",
      "Epoch 55/100\n",
      "209/209 [==============================] - 0s 234us/sample - loss: 0.2814 - acc: 0.8804 - val_loss: 0.5592 - val_acc: 0.7800\n",
      "Epoch 56/100\n",
      "209/209 [==============================] - 0s 230us/sample - loss: 0.2798 - acc: 0.8947 - val_loss: 0.6591 - val_acc: 0.7200\n",
      "Epoch 57/100\n",
      "209/209 [==============================] - 0s 225us/sample - loss: 0.3055 - acc: 0.8900 - val_loss: 1.2540 - val_acc: 0.4000\n",
      "Epoch 58/100\n",
      "209/209 [==============================] - 0s 215us/sample - loss: 0.3021 - acc: 0.8565 - val_loss: 0.8067 - val_acc: 0.6400\n",
      "Epoch 59/100\n",
      "209/209 [==============================] - 0s 220us/sample - loss: 0.2680 - acc: 0.8708 - val_loss: 0.5841 - val_acc: 0.8000\n",
      "Epoch 60/100\n"
     ]
    },
    {
     "name": "stdout",
     "output_type": "stream",
     "text": [
      "209/209 [==============================] - 0s 225us/sample - loss: 0.2414 - acc: 0.8947 - val_loss: 1.1037 - val_acc: 0.4600\n",
      "Epoch 61/100\n",
      "209/209 [==============================] - 0s 206us/sample - loss: 0.2483 - acc: 0.9234 - val_loss: 0.9140 - val_acc: 0.6000\n",
      "Epoch 62/100\n",
      "209/209 [==============================] - 0s 215us/sample - loss: 0.2497 - acc: 0.9187 - val_loss: 0.6749 - val_acc: 0.7400\n",
      "Epoch 63/100\n",
      "209/209 [==============================] - 0s 211us/sample - loss: 0.2222 - acc: 0.9187 - val_loss: 0.6149 - val_acc: 0.7400\n",
      "Epoch 64/100\n",
      "209/209 [==============================] - 0s 215us/sample - loss: 0.1795 - acc: 0.9665 - val_loss: 0.7246 - val_acc: 0.7400\n",
      "Epoch 65/100\n",
      "209/209 [==============================] - 0s 211us/sample - loss: 0.1801 - acc: 0.9665 - val_loss: 0.6705 - val_acc: 0.7600\n",
      "Epoch 66/100\n",
      "209/209 [==============================] - 0s 211us/sample - loss: 0.1713 - acc: 0.9713 - val_loss: 0.6866 - val_acc: 0.7400\n",
      "Epoch 67/100\n",
      "209/209 [==============================] - 0s 220us/sample - loss: 0.1682 - acc: 0.9713 - val_loss: 0.7661 - val_acc: 0.7200\n",
      "Epoch 68/100\n",
      "209/209 [==============================] - 0s 211us/sample - loss: 0.1714 - acc: 0.9761 - val_loss: 1.0187 - val_acc: 0.5400\n",
      "Epoch 69/100\n",
      "209/209 [==============================] - 0s 206us/sample - loss: 0.2307 - acc: 0.9187 - val_loss: 0.6434 - val_acc: 0.7200\n",
      "Epoch 70/100\n",
      "209/209 [==============================] - 0s 215us/sample - loss: 0.1918 - acc: 0.9474 - val_loss: 0.6369 - val_acc: 0.7200\n",
      "Epoch 71/100\n",
      "209/209 [==============================] - 0s 215us/sample - loss: 0.1695 - acc: 0.9665 - val_loss: 0.6975 - val_acc: 0.7400\n",
      "Epoch 72/100\n",
      "209/209 [==============================] - 0s 234us/sample - loss: 0.1685 - acc: 0.9713 - val_loss: 0.8156 - val_acc: 0.7200\n",
      "Epoch 73/100\n",
      "209/209 [==============================] - 0s 234us/sample - loss: 0.1533 - acc: 0.9761 - val_loss: 0.7011 - val_acc: 0.7400\n",
      "Epoch 74/100\n",
      "209/209 [==============================] - 0s 230us/sample - loss: 0.1542 - acc: 0.9809 - val_loss: 0.7227 - val_acc: 0.7200\n",
      "Epoch 75/100\n",
      "209/209 [==============================] - 0s 239us/sample - loss: 0.1496 - acc: 0.9761 - val_loss: 0.8003 - val_acc: 0.7200\n",
      "Epoch 76/100\n",
      "209/209 [==============================] - 0s 230us/sample - loss: 0.1459 - acc: 0.9761 - val_loss: 0.6860 - val_acc: 0.7400\n",
      "Epoch 77/100\n",
      "209/209 [==============================] - 0s 225us/sample - loss: 0.1488 - acc: 0.9713 - val_loss: 0.7615 - val_acc: 0.7400\n",
      "Epoch 78/100\n",
      "209/209 [==============================] - 0s 249us/sample - loss: 0.1380 - acc: 0.9856 - val_loss: 0.7067 - val_acc: 0.7400\n",
      "Epoch 79/100\n",
      "209/209 [==============================] - 0s 230us/sample - loss: 0.1384 - acc: 0.9809 - val_loss: 0.8160 - val_acc: 0.7200\n",
      "Epoch 80/100\n",
      "209/209 [==============================] - 0s 225us/sample - loss: 0.1403 - acc: 0.9761 - val_loss: 0.8135 - val_acc: 0.7400\n",
      "Epoch 81/100\n",
      "209/209 [==============================] - 0s 211us/sample - loss: 0.1351 - acc: 0.9713 - val_loss: 0.7471 - val_acc: 0.7200\n",
      "Epoch 82/100\n",
      "209/209 [==============================] - 0s 211us/sample - loss: 0.1387 - acc: 0.9809 - val_loss: 0.6521 - val_acc: 0.7200\n",
      "Epoch 83/100\n",
      "209/209 [==============================] - 0s 225us/sample - loss: 0.1760 - acc: 0.9426 - val_loss: 0.9471 - val_acc: 0.6200\n",
      "Epoch 84/100\n",
      "209/209 [==============================] - 0s 225us/sample - loss: 0.1503 - acc: 0.9713 - val_loss: 0.9312 - val_acc: 0.6200\n",
      "Epoch 85/100\n",
      "209/209 [==============================] - 0s 230us/sample - loss: 0.1312 - acc: 0.9904 - val_loss: 0.7018 - val_acc: 0.7200\n",
      "Epoch 86/100\n",
      "209/209 [==============================] - 0s 234us/sample - loss: 0.1377 - acc: 0.9761 - val_loss: 0.7510 - val_acc: 0.7200\n",
      "Epoch 87/100\n",
      "209/209 [==============================] - 0s 220us/sample - loss: 0.1220 - acc: 0.9856 - val_loss: 0.9004 - val_acc: 0.6800\n",
      "Epoch 88/100\n",
      "209/209 [==============================] - 0s 215us/sample - loss: 0.1257 - acc: 0.9809 - val_loss: 0.8307 - val_acc: 0.7200\n",
      "Epoch 89/100\n",
      "209/209 [==============================] - 0s 225us/sample - loss: 0.1209 - acc: 0.9856 - val_loss: 0.9117 - val_acc: 0.6600\n",
      "Epoch 90/100\n",
      "209/209 [==============================] - 0s 215us/sample - loss: 0.1298 - acc: 0.9761 - val_loss: 0.7508 - val_acc: 0.7400\n",
      "Epoch 91/100\n",
      "209/209 [==============================] - 0s 220us/sample - loss: 0.1195 - acc: 0.9761 - val_loss: 0.7649 - val_acc: 0.7400\n",
      "Epoch 92/100\n",
      "209/209 [==============================] - 0s 220us/sample - loss: 0.1138 - acc: 0.9904 - val_loss: 0.9705 - val_acc: 0.6400\n",
      "Epoch 93/100\n",
      "209/209 [==============================] - 0s 215us/sample - loss: 0.1236 - acc: 0.9761 - val_loss: 0.9531 - val_acc: 0.6600\n",
      "Epoch 94/100\n",
      "209/209 [==============================] - 0s 220us/sample - loss: 0.1392 - acc: 0.9761 - val_loss: 0.8714 - val_acc: 0.7200\n",
      "Epoch 95/100\n",
      "209/209 [==============================] - 0s 215us/sample - loss: 0.1238 - acc: 0.9665 - val_loss: 0.7125 - val_acc: 0.7200\n",
      "Epoch 96/100\n",
      "209/209 [==============================] - 0s 206us/sample - loss: 0.1252 - acc: 0.9761 - val_loss: 0.7629 - val_acc: 0.7400\n",
      "Epoch 97/100\n",
      "209/209 [==============================] - 0s 258us/sample - loss: 0.1117 - acc: 0.9856 - val_loss: 0.9732 - val_acc: 0.6600\n",
      "Epoch 98/100\n",
      "209/209 [==============================] - 0s 239us/sample - loss: 0.1084 - acc: 0.9904 - val_loss: 0.7672 - val_acc: 0.7400\n",
      "Epoch 99/100\n",
      "209/209 [==============================] - 0s 234us/sample - loss: 0.1023 - acc: 0.9952 - val_loss: 0.9563 - val_acc: 0.7000\n",
      "Epoch 100/100\n",
      "209/209 [==============================] - 0s 249us/sample - loss: 0.1055 - acc: 0.9856 - val_loss: 0.9131 - val_acc: 0.6800\n"
     ]
    },
    {
     "data": {
      "text/plain": [
       "<tensorflow.python.keras.callbacks.History at 0x160790ef5c0>"
      ]
     },
     "execution_count": 18,
     "metadata": {},
     "output_type": "execute_result"
    }
   ],
   "source": [
    "model.fit(X_train_flatten, y_train, epochs=100, validation_data=(X_test_flatten, y_test))"
   ]
  },
  {
   "cell_type": "code",
   "execution_count": 19,
   "metadata": {},
   "outputs": [
    {
     "name": "stdout",
     "output_type": "stream",
     "text": [
      "50/50 [==============================] - 0s 320us/sample - loss: 0.9131 - acc: 0.6800\n"
     ]
    }
   ],
   "source": [
    "score = model.evaluate(X_test_flatten, y_test)"
   ]
  },
  {
   "cell_type": "code",
   "execution_count": 20,
   "metadata": {},
   "outputs": [
    {
     "name": "stdout",
     "output_type": "stream",
     "text": [
      "['loss', 'acc']\n",
      "Test score : 0.91\n",
      "Test accuracy : 0.68\n"
     ]
    }
   ],
   "source": [
    "print(model.metrics_names)\n",
    "print(\"Test score : {:.2f}\".format(score[0]))\n",
    "print(\"Test accuracy : {:.2f}\".format(score[1]))"
   ]
  },
  {
   "cell_type": "code",
   "execution_count": null,
   "metadata": {},
   "outputs": [],
   "source": []
  }
 ],
 "metadata": {
  "kernelspec": {
   "display_name": "Python 3",
   "language": "python",
   "name": "python3"
  },
  "language_info": {
   "codemirror_mode": {
    "name": "ipython",
    "version": 3
   },
   "file_extension": ".py",
   "mimetype": "text/x-python",
   "name": "python",
   "nbconvert_exporter": "python",
   "pygments_lexer": "ipython3",
   "version": "3.7.3"
  }
 },
 "nbformat": 4,
 "nbformat_minor": 2
}
