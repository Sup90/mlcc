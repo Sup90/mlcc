{
 "cells": [
  {
   "cell_type": "code",
   "execution_count": 38,
   "metadata": {},
   "outputs": [],
   "source": [
    "\n",
    "import matplotlib.pyplot as plt\n",
    "import numpy as np\n",
    "import pandas as pd \n",
    "from sklearn.model_selection import train_test_split\n",
    "from sklearn.preprocessing import StandardScaler\n",
    "from sklearn.ensemble import RandomForestClassifier\n",
    "from sklearn.metrics import accuracy_score,confusion_matrix"
   ]
  },
  {
   "cell_type": "code",
   "execution_count": 45,
   "metadata": {},
   "outputs": [],
   "source": [
    "dataset=pd.read_csv(\"C:/Users/COM/Desktop/python class/machineLearningBasic-master/machineLearningBasic-master/datasets/Social_Network_Ads.csv\")"
   ]
  },
  {
   "cell_type": "code",
   "execution_count": 40,
   "metadata": {},
   "outputs": [],
   "source": [
    "df=dataset\n",
    "x=df.iloc[:,[2,3]].values.astype(\"float32\")\n",
    "y=df.iloc[:,4].values.astype(\"float32\")\n",
    "xtr,xte,ytr,yte=train_test_split(x,y,test_size=0.2)\n",
    "sc=StandardScaler()\n",
    "xtr_sc=sc.fit_transform(xtr)\n",
    "xte_sc=sc.transform(xte)"
   ]
  },
  {
   "cell_type": "code",
   "execution_count": 6,
   "metadata": {},
   "outputs": [
    {
     "data": {
      "text/plain": [
       "RandomForestClassifier(bootstrap=True, class_weight=None, criterion='entropy',\n",
       "            max_depth=None, max_features='auto', max_leaf_nodes=None,\n",
       "            min_impurity_decrease=0.0, min_impurity_split=None,\n",
       "            min_samples_leaf=1, min_samples_split=2,\n",
       "            min_weight_fraction_leaf=0.0, n_estimators=10, n_jobs=None,\n",
       "            oob_score=False, random_state=None, verbose=0,\n",
       "            warm_start=False)"
      ]
     },
     "execution_count": 6,
     "metadata": {},
     "output_type": "execute_result"
    }
   ],
   "source": [
    "clf=RandomForestClassifier(n_estimators=10,criterion='entropy')\n",
    "clf.fit(xtr_sc,ytr)"
   ]
  },
  {
   "cell_type": "code",
   "execution_count": 7,
   "metadata": {},
   "outputs": [],
   "source": [
    "y_pred=clf.predict(xte_sc)\n"
   ]
  },
  {
   "cell_type": "code",
   "execution_count": 9,
   "metadata": {
    "scrolled": true
   },
   "outputs": [
    {
     "data": {
      "text/plain": [
       "array([[47,  4],\n",
       "       [ 2, 27]], dtype=int64)"
      ]
     },
     "execution_count": 9,
     "metadata": {},
     "output_type": "execute_result"
    }
   ],
   "source": [
    "confusion_matrix(yte,y_pred)"
   ]
  },
  {
   "cell_type": "code",
   "execution_count": 10,
   "metadata": {},
   "outputs": [
    {
     "data": {
      "text/plain": [
       "0.925"
      ]
     },
     "execution_count": 10,
     "metadata": {},
     "output_type": "execute_result"
    }
   ],
   "source": [
    "accuracy_score(yte,y_pred)"
   ]
  },
  {
   "cell_type": "code",
   "execution_count": 14,
   "metadata": {},
   "outputs": [
    {
     "data": {
      "text/plain": [
       "<Figure size 576x432 with 0 Axes>"
      ]
     },
     "metadata": {},
     "output_type": "display_data"
    }
   ],
   "source": [
    "from matplotlib.colors import ListedColormap\n",
    "plt.figure(figsize=(8,6))\n",
    "\n",
    "X_set, y_set = xtr_sc, ytr"
   ]
  },
  {
   "cell_type": "code",
   "execution_count": 17,
   "metadata": {},
   "outputs": [
    {
     "data": {
      "text/plain": [
       "<matplotlib.contour.QuadContourSet at 0x5df6d30>"
      ]
     },
     "execution_count": 17,
     "metadata": {},
     "output_type": "execute_result"
    },
    {
     "data": {
      "image/png": "[encoded data removed]",
      "text/plain": [
       "<Figure size 432x288 with 1 Axes>"
      ]
     },
     "metadata": {
      "needs_background": "light"
     },
     "output_type": "display_data"
    }
   ],
   "source": [
    "X1, X2 = np.meshgrid(np.arange(start=X_set[:,0].min() - 1, stop=X_set[:, 0].max() + 1, step=0.01), \n",
    "                     #여유있게 시작값을 주고자 최소,최대 값보다 + - 1 함\n",
    "                                 np.arange(start=X_set[:,1].min() - 1, stop=X_set[:,1].max() + 1, step=0.01))\n",
    "XX = np.c_[X1.ravel(), X2.ravel()]\n",
    "Y = clf.predict(XX)\n",
    "\n",
    "plt.contourf(X1, X2, Y.reshape(X1.shape), alpha=0.5, cmap=ListedColormap(('red', 'green')))"
   ]
  },
  {
   "cell_type": "code",
   "execution_count": 20,
   "metadata": {},
   "outputs": [
    {
     "data": {
      "text/plain": [
       "[(0, 0.0), (1, 1.0)]"
      ]
     },
     "execution_count": 20,
     "metadata": {},
     "output_type": "execute_result"
    }
   ],
   "source": [
    "list(enumerate(np.unique(y_set)))"
   ]
  },
  {
   "cell_type": "code",
   "execution_count": 18,
   "metadata": {},
   "outputs": [
    {
     "data": {
      "text/plain": [
       "array([0., 1.], dtype=float32)"
      ]
     },
     "execution_count": 18,
     "metadata": {},
     "output_type": "execute_result"
    }
   ],
   "source": [
    "np.unique(y_set)"
   ]
  },
  {
   "cell_type": "code",
   "execution_count": 25,
   "metadata": {},
   "outputs": [
    {
     "data": {
      "text/plain": [
       "array([0., 1., 1., 0., 1., 1., 1., 0., 1., 0., 0., 0., 1., 0., 1., 0., 0.,\n",
       "       0., 0., 0., 0., 0., 0., 0., 0., 0., 0., 1., 1., 1., 0., 0., 1., 0.,\n",
       "       1., 0., 1., 0., 0., 0., 1., 0., 1., 0., 0., 0., 1., 0., 0., 0., 1.,\n",
       "       0., 0., 1., 1., 1., 0., 1., 0., 0., 1., 0., 1., 0., 0., 0., 0., 0.,\n",
       "       0., 1., 1., 0., 0., 1., 1., 0., 0., 1., 1., 0., 0., 0., 0., 0., 0.,\n",
       "       1., 1., 0., 0., 1., 1., 0., 0., 1., 0., 1., 0., 1., 0., 0., 1., 0.,\n",
       "       0., 0., 0., 1., 0., 0., 0., 1., 1., 1., 0., 0., 0., 0., 0., 1., 0.,\n",
       "       0., 0., 0., 1., 1., 1., 0., 0., 0., 1., 1., 1., 0., 0., 1., 0., 1.,\n",
       "       0., 0., 0., 0., 0., 0., 1., 0., 0., 0., 0., 0., 0., 0., 1., 0., 1.,\n",
       "       1., 1., 0., 0., 0., 0., 0., 1., 1., 1., 1., 0., 0., 0., 0., 0., 0.,\n",
       "       0., 0., 0., 1., 1., 0., 0., 0., 0., 1., 0., 1., 0., 0., 0., 1., 1.,\n",
       "       0., 0., 1., 0., 0., 0., 0., 1., 0., 1., 1., 1., 0., 1., 0., 0., 1.,\n",
       "       0., 0., 0., 0., 0., 0., 1., 0., 0., 0., 0., 1., 1., 1., 0., 0., 0.,\n",
       "       0., 1., 0., 1., 0., 0., 0., 1., 1., 0., 1., 0., 0., 0., 1., 0., 1.,\n",
       "       0., 0., 0., 1., 0., 0., 1., 0., 0., 0., 1., 0., 0., 1., 0., 0., 0.,\n",
       "       1., 1., 0., 0., 0., 1., 0., 1., 0., 0., 0., 0., 0., 0., 1., 0., 0.,\n",
       "       1., 0., 0., 1., 0., 0., 1., 0., 0., 0., 0., 0., 1., 0., 1., 0., 1.,\n",
       "       0., 1., 1., 1., 1., 1., 0., 0., 1., 0., 1., 1., 1., 1., 0., 0., 0.,\n",
       "       0., 0., 0., 0., 0., 0., 1., 1., 1., 1., 0., 0., 1., 0.],\n",
       "      dtype=float32)"
      ]
     },
     "execution_count": 25,
     "metadata": {},
     "output_type": "execute_result"
    }
   ],
   "source": [
    "y_set"
   ]
  },
  {
   "cell_type": "code",
   "execution_count": 28,
   "metadata": {},
   "outputs": [
    {
     "data": {
      "text/plain": [
       "array([False,  True,  True, False,  True,  True,  True, False,  True,\n",
       "       False, False, False,  True, False,  True, False, False, False,\n",
       "       False, False, False, False, False, False, False, False, False,\n",
       "        True,  True,  True, False, False,  True, False,  True, False,\n",
       "        True, False, False, False,  True, False,  True, False, False,\n",
       "       False,  True, False, False, False,  True, False, False,  True,\n",
       "        True,  True, False,  True, False, False,  True, False,  True,\n",
       "       False, False, False, False, False, False,  True,  True, False,\n",
       "       False,  True,  True, False, False,  True,  True, False, False,\n",
       "       False, False, False, False,  True,  True, False, False,  True,\n",
       "        True, False, False,  True, False,  True, False,  True, False,\n",
       "       False,  True, False, False, False, False,  True, False, False,\n",
       "       False,  True,  True,  True, False, False, False, False, False,\n",
       "        True, False, False, False, False,  True,  True,  True, False,\n",
       "       False, False,  True,  True,  True, False, False,  True, False,\n",
       "        True, False, False, False, False, False, False,  True, False,\n",
       "       False, False, False, False, False, False,  True, False,  True,\n",
       "        True,  True, False, False, False, False, False,  True,  True,\n",
       "        True,  True, False, False, False, False, False, False, False,\n",
       "       False, False,  True,  True, False, False, False, False,  True,\n",
       "       False,  True, False, False, False,  True,  True, False, False,\n",
       "        True, False, False, False, False,  True, False,  True,  True,\n",
       "        True, False,  True, False, False,  True, False, False, False,\n",
       "       False, False, False,  True, False, False, False, False,  True,\n",
       "        True,  True, False, False, False, False,  True, False,  True,\n",
       "       False, False, False,  True,  True, False,  True, False, False,\n",
       "       False,  True, False,  True, False, False, False,  True, False,\n",
       "       False,  True, False, False, False,  True, False, False,  True,\n",
       "       False, False, False,  True,  True, False, False, False,  True,\n",
       "       False,  True, False, False, False, False, False, False,  True,\n",
       "       False, False,  True, False, False,  True, False, False,  True,\n",
       "       False, False, False, False, False,  True, False,  True, False,\n",
       "        True, False,  True,  True,  True,  True,  True, False, False,\n",
       "        True, False,  True,  True,  True,  True, False, False, False,\n",
       "       False, False, False, False, False, False,  True,  True,  True,\n",
       "        True, False, False,  True, False])"
      ]
     },
     "execution_count": 28,
     "metadata": {},
     "output_type": "execute_result"
    }
   ],
   "source": [
    "y_set == 1"
   ]
  },
  {
   "cell_type": "code",
   "execution_count": 27,
   "metadata": {
    "scrolled": true
   },
   "outputs": [
    {
     "data": {
      "text/plain": [
       "array([[-0.8370566 , -0.65156245],\n",
       "       [ 1.7357534 ,  1.9067196 ],\n",
       "       [ 0.6875715 , -1.0977744 ],\n",
       "       [-1.2182136 ,  0.3301039 ],\n",
       "       [ 0.87815   , -0.5920675 ],\n",
       "       [-0.07474251,  2.2934365 ],\n",
       "       [ 0.9734393 ,  1.9364669 ],\n",
       "       [ 0.78286076, -1.395249  ],\n",
       "       [-0.07474251,  0.71682096],\n",
       "       [-0.55118877,  0.5085887 ],\n",
       "       [-0.26532102,  0.18136658],\n",
       "       [-1.0276351 , -0.3243403 ],\n",
       "       [ 0.115836  ,  0.18136658],\n",
       "       [ 0.3064145 ,  0.09212418],\n",
       "       [ 1.0687286 , -1.2167642 ],\n",
       "       [-0.26532102, -0.65156245],\n",
       "       [-0.45589954,  0.00288179],\n",
       "       [-1.5993705 , -1.5737338 ],\n",
       "       [ 0.21112525, -0.3540878 ],\n",
       "       [-1.7899489 ,  0.03262925],\n",
       "       [ 0.40170375, -0.44333017],\n",
       "       [-1.7899489 ,  0.47884122],\n",
       "       [ 0.78286076, -0.29459286],\n",
       "       [-1.1229243 , -0.7705523 ],\n",
       "       [ 1.1640178 , -0.74080485],\n",
       "       [-1.3135028 , -1.4844915 ],\n",
       "       [-1.3135028 , -1.3655016 ],\n",
       "       [ 1.7357534 , -0.2648454 ],\n",
       "       [ 1.9263319 , -0.9192896 ],\n",
       "       [ 1.0687286 , -1.2167642 ],\n",
       "       [-1.0276351 , -1.454744  ],\n",
       "       [-1.0276351 , -1.1275219 ],\n",
       "       [ 2.1169105 , -0.6813099 ],\n",
       "       [ 0.3064145 , -1.1572694 ],\n",
       "       [ 0.115836  ,  0.80606335],\n",
       "       [-0.8370566 ,  0.4193463 ],\n",
       "       [-0.26532102,  0.657326  ],\n",
       "       [ 0.3064145 , -0.175603  ],\n",
       "       [ 0.40170375,  0.18136658],\n",
       "       [-1.1229243 , -1.008532  ],\n",
       "       [ 0.9734393 , -1.0680269 ],\n",
       "       [-1.8852383 , -0.02686568],\n",
       "       [-0.17003176,  1.4605075 ],\n",
       "       [-1.0276351 ,  0.5978311 ],\n",
       "       [-0.26532102, -1.454744  ],\n",
       "       [-1.1229243 ,  0.35985136],\n",
       "       [ 2.1169105 ,  0.4193463 ],\n",
       "       [-0.07474251, -0.20535047],\n",
       "       [ 0.115836  ,  0.2408615 ],\n",
       "       [ 0.3064145 , -0.71105736],\n",
       "       [ 1.6404641 ,  1.6687398 ],\n",
       "       [-0.45589954,  1.3117702 ],\n",
       "       [-0.17003176, -0.50282514],\n",
       "       [-0.55118877,  0.9250532 ],\n",
       "       [ 0.115836  ,  1.9364669 ],\n",
       "       [-0.55118877,  1.5200025 ],\n",
       "       [-0.7417673 , -1.5439863 ],\n",
       "       [ 1.3545963 , -0.9192896 ],\n",
       "       [ 0.21112525,  0.18136658],\n",
       "       [-0.64647806, -0.08636061],\n",
       "       [ 0.40170375,  0.12187164],\n",
       "       [ 0.3064145 ,  0.09212418],\n",
       "       [ 0.87815   ,  2.2339416 ],\n",
       "       [ 0.3064145 , -0.50282514],\n",
       "       [-0.7417673 , -0.20535047],\n",
       "       [-0.9323458 , -0.29459286],\n",
       "       [-0.07474251, -1.0680269 ],\n",
       "       [-1.1229243 ,  0.3301039 ],\n",
       "       [-0.45589954, -0.7705523 ],\n",
       "       [ 0.9734393 , -0.83004725],\n",
       "       [ 0.78286076,  0.30035642],\n",
       "       [-0.7417673 ,  1.4010127 ],\n",
       "       [-1.5040814 , -0.4135827 ],\n",
       "       [ 0.9734393 , -1.1572694 ],\n",
       "       [ 1.4498855 ,  2.204194  ],\n",
       "       [-1.1229243 , -1.6034813 ],\n",
       "       [ 0.59228224, -0.88954216],\n",
       "       [ 1.6404641 ,  1.8174771 ],\n",
       "       [-0.26532102,  2.323184  ],\n",
       "       [-1.5993705 ,  0.5680836 ],\n",
       "       [ 0.21112525, -0.29459286],\n",
       "       [-0.26532102,  0.5680836 ],\n",
       "       [-0.17003176, -0.56232005],\n",
       "       [-0.8370566 , -0.7705523 ],\n",
       "       [-0.26532102,  0.18136658],\n",
       "       [ 0.87815   ,  1.0737906 ],\n",
       "       [ 0.6875715 ,  1.8472246 ],\n",
       "       [-0.26532102, -1.2465117 ],\n",
       "       [-1.5040814 , -1.514239  ],\n",
       "       [ 1.0687286 , -0.97878456],\n",
       "       [ 0.9734393 ,  1.8472246 ],\n",
       "       [-0.26532102, -1.395249  ],\n",
       "       [ 0.115836  ,  0.12187164],\n",
       "       [ 0.78286076,  0.5680836 ],\n",
       "       [ 0.21112525,  0.27060896],\n",
       "       [ 1.259307  ,  2.2934365 ],\n",
       "       [ 0.115836  , -0.23509793],\n",
       "       [ 2.1169105 ,  1.1630329 ],\n",
       "       [-0.26532102, -0.23509793],\n",
       "       [-1.0276351 , -1.5439863 ],\n",
       "       [ 0.40170375,  1.0440431 ],\n",
       "       [-1.7899489 , -1.4844915 ],\n",
       "       [-0.26532102, -0.56232005],\n",
       "       [-0.9323458 , -1.0977744 ],\n",
       "       [-1.1229243 ,  0.44909376],\n",
       "       [-0.07474251,  0.27060896],\n",
       "       [-0.26532102, -0.74080485],\n",
       "       [-1.1229243 ,  0.5085887 ],\n",
       "       [-0.26532102, -0.11610807],\n",
       "       [ 0.496993  ,  1.2820227 ],\n",
       "       [ 0.6875715 , -1.395249  ],\n",
       "       [-0.45589954,  2.382679  ],\n",
       "       [ 0.3064145 ,  0.06237672],\n",
       "       [-0.26532102, -0.29459286],\n",
       "       [-0.64647806,  0.1516191 ],\n",
       "       [-1.6946597 ,  0.38959882],\n",
       "       [-1.408792  , -1.454744  ],\n",
       "       [ 0.87815   , -0.56232005],\n",
       "       [-1.7899489 , -1.3060067 ],\n",
       "       [-1.3135028 , -1.2465117 ],\n",
       "       [ 0.87815   , -0.7705523 ],\n",
       "       [-1.3135028 , -0.4135827 ],\n",
       "       [ 2.0216212 ,  1.8174771 ],\n",
       "       [-0.7417673 ,  1.1332854 ],\n",
       "       [-1.0276351 ,  0.80606335],\n",
       "       [ 0.115836  , -0.80029976],\n",
       "       [-0.26532102, -0.9192896 ],\n",
       "       [-0.36061025, -0.7705523 ],\n",
       "       [ 0.9734393 ,  0.80606335],\n",
       "       [ 0.78286076, -0.83004725],\n",
       "       [ 0.9734393 , -1.1870168 ],\n",
       "       [ 0.40170375, -0.11610807],\n",
       "       [ 2.0216212 ,  0.4193463 ],\n",
       "       [ 1.9263319 ,  0.77631587],\n",
       "       [ 0.21112525, -0.2648454 ],\n",
       "       [ 1.3545963 ,  0.62757856],\n",
       "       [ 0.21112525,  0.18136658],\n",
       "       [-1.0276351 , -0.44333017],\n",
       "       [-0.07474251, -0.3540878 ],\n",
       "       [-0.9323458 ,  0.47884122],\n",
       "       [-0.07474251,  0.09212418],\n",
       "       [ 0.21112525, -0.3540878 ],\n",
       "       [ 2.0216212 , -1.1870168 ],\n",
       "       [ 2.0216212 , -0.80029976],\n",
       "       [-0.9323458 , -0.9490371 ],\n",
       "       [-1.2182136 ,  0.53833616],\n",
       "       [ 0.21112525, -0.65156245],\n",
       "       [-0.7417673 ,  0.30035642],\n",
       "       [-1.1229243 , -0.50282514],\n",
       "       [ 0.78286076,  0.1516191 ],\n",
       "       [-0.07474251,  0.03262925],\n",
       "       [-0.07474251,  0.18136658],\n",
       "       [ 2.0216212 ,  2.204194  ],\n",
       "       [ 1.7357534 ,  1.0440431 ],\n",
       "       [ 0.9734393 ,  2.0554569 ],\n",
       "       [-0.55118877,  1.43076   ],\n",
       "       [-1.408792  ,  0.38959882],\n",
       "       [-0.64647806,  0.5978311 ],\n",
       "       [-0.17003176, -1.0680269 ],\n",
       "       [-1.6946597 ,  0.38959882],\n",
       "       [ 0.115836  ,  1.9364669 ],\n",
       "       [ 1.8310426 ,  1.5794975 ],\n",
       "       [-0.55118877,  1.43076   ],\n",
       "       [ 0.40170375,  0.3301039 ],\n",
       "       [-0.26532102, -0.47307765],\n",
       "       [ 0.115836  , -0.29459286],\n",
       "       [ 0.115836  ,  0.30035642],\n",
       "       [ 0.40170375, -0.47307765],\n",
       "       [-1.1229243 ,  0.3301039 ],\n",
       "       [ 0.02054675,  0.06237672],\n",
       "       [ 0.21112525, -0.23509793],\n",
       "       [-0.26532102, -0.3243403 ],\n",
       "       [-1.5040814 ,  0.35985136],\n",
       "       [ 1.0687286 ,  0.5680836 ],\n",
       "       [ 1.3545963 ,  2.4124265 ],\n",
       "       [-1.5993705 , -0.02686568],\n",
       "       [-0.8370566 , -1.2167642 ],\n",
       "       [-1.2182136 ,  0.62757856],\n",
       "       [ 0.496993  ,  1.9067196 ],\n",
       "       [ 0.87815   ,  1.3117702 ],\n",
       "       [-1.1229243 , -1.5439863 ],\n",
       "       [ 1.6404641 , -0.88954216],\n",
       "       [ 0.21112525,  0.09212418],\n",
       "       [-0.45589954, -0.83004725],\n",
       "       [-1.0276351 , -0.3243403 ],\n",
       "       [ 2.1169105 ,  0.9845481 ],\n",
       "       [ 0.87815   , -1.1572694 ],\n",
       "       [-0.7417673 ,  0.5978311 ],\n",
       "       [-1.1229243 , -1.1572694 ],\n",
       "       [ 2.0216212 ,  0.21111403],\n",
       "       [ 0.40170375, -0.44333017],\n",
       "       [-1.0276351 ,  0.62757856],\n",
       "       [-1.3135028 ,  0.5978311 ],\n",
       "       [ 0.3064145 , -0.29459286],\n",
       "       [ 0.6875715 , -1.395249  ],\n",
       "       [-0.36061025, -0.7705523 ],\n",
       "       [ 0.21112525,  0.06237672],\n",
       "       [ 1.0687286 ,  0.5085887 ],\n",
       "       [ 0.87815   , -0.53257257],\n",
       "       [-0.26532102,  0.06237672],\n",
       "       [ 1.5451748 , -1.2762592 ],\n",
       "       [ 0.78286076,  0.38959882],\n",
       "       [-0.7417673 ,  0.53833616],\n",
       "       [ 1.8310426 , -0.2648454 ],\n",
       "       [-0.8370566 ,  0.18136658],\n",
       "       [ 0.3064145 ,  0.3301039 ],\n",
       "       [-0.17003176,  0.18136658],\n",
       "       [-1.3135028 ,  0.44909376],\n",
       "       [ 0.02054675, -0.23509793],\n",
       "       [-1.2182136 , -1.395249  ],\n",
       "       [ 2.1169105 , -0.80029976],\n",
       "       [-1.7899489 , -1.2762592 ],\n",
       "       [-0.9323458 ,  0.53833616],\n",
       "       [-0.26532102,  1.1630329 ],\n",
       "       [-0.26532102, -0.88954216],\n",
       "       [ 2.1169105 , -1.0382795 ],\n",
       "       [ 0.59228224,  2.0852044 ],\n",
       "       [ 1.4498855 ,  0.38959882],\n",
       "       [-0.07474251,  0.06237672],\n",
       "       [-0.9323458 ,  0.30035642],\n",
       "       [-0.07474251,  0.3301039 ],\n",
       "       [-0.07474251, -0.47307765],\n",
       "       [ 0.9734393 , -1.0680269 ],\n",
       "       [-1.1229243 , -1.0977744 ],\n",
       "       [ 0.9734393 ,  0.62757856],\n",
       "       [-1.3135028 , -0.4135827 ],\n",
       "       [-0.17003176, -0.44333017],\n",
       "       [-1.6946597 , -0.5920675 ],\n",
       "       [ 0.78286076, -1.3655016 ],\n",
       "       [ 0.6875715 , -1.2762592 ],\n",
       "       [-0.8370566 ,  0.4193463 ],\n",
       "       [ 1.0687286 , -0.88954216],\n",
       "       [-1.8852383 ,  0.5085887 ],\n",
       "       [ 0.02054675, -0.56232005],\n",
       "       [-1.5040814 , -1.2465117 ],\n",
       "       [ 0.9734393 ,  0.1516191 ],\n",
       "       [ 0.9734393 ,  2.1446993 ],\n",
       "       [ 1.8310426 ,  0.1516191 ],\n",
       "       [-1.1229243 , -1.5737338 ],\n",
       "       [ 0.02054675, -0.29459286],\n",
       "       [-0.45589954, -1.2167642 ],\n",
       "       [ 2.1169105 , -0.80029976],\n",
       "       [ 1.0687286 ,  0.1516191 ],\n",
       "       [-0.17003176, -0.175603  ],\n",
       "       [ 0.02054675,  1.3117702 ],\n",
       "       [-1.1229243 ,  1.4605075 ],\n",
       "       [-0.45589954, -1.1275219 ],\n",
       "       [-0.7417673 , -0.5920675 ],\n",
       "       [ 0.78286076, -1.0977744 ],\n",
       "       [ 0.3064145 ,  0.09212418],\n",
       "       [ 0.115836  , -0.80029976],\n",
       "       [ 0.87815   , -1.3060067 ],\n",
       "       [-0.45589954, -0.2648454 ],\n",
       "       [-0.26532102, -1.3060067 ],\n",
       "       [-1.2182136 , -1.0680269 ],\n",
       "       [ 1.0687286 ,  0.5978311 ],\n",
       "       [ 1.5451748 ,  1.1630329 ],\n",
       "       [-0.64647806, -1.6034813 ],\n",
       "       [ 0.02054675, -0.23509793],\n",
       "       [ 0.40170375,  0.30035642],\n",
       "       [ 1.3545963 ,  2.0554569 ],\n",
       "       [-0.26532102,  0.09212418],\n",
       "       [ 0.40170375,  0.62757856],\n",
       "       [-1.408792  , -1.2167642 ],\n",
       "       [-0.64647806, -0.02686568],\n",
       "       [ 1.3545963 ,  1.3415177 ],\n",
       "       [-0.26532102, -0.56232005],\n",
       "       [ 0.02054675, -0.11610807],\n",
       "       [-0.36061025,  0.09212418],\n",
       "       [ 1.8310426 , -1.2762592 ],\n",
       "       [-1.5040814 , -0.175603  ],\n",
       "       [-1.6946597 , -0.97878456],\n",
       "       [ 0.21112525,  2.1744466 ],\n",
       "       [ 0.40170375, -0.14585553],\n",
       "       [-1.7899489 ,  0.21111403],\n",
       "       [ 1.5451748 ,  0.03262925],\n",
       "       [-1.0276351 , -0.3540878 ],\n",
       "       [-0.8370566 , -0.23509793],\n",
       "       [ 0.3064145 ,  0.53833616],\n",
       "       [-0.64647806, -1.514239  ],\n",
       "       [ 0.21112525, -0.11610807],\n",
       "       [ 0.02054675,  0.3301039 ],\n",
       "       [ 0.02054675,  1.2820227 ],\n",
       "       [ 0.3064145 ,  0.09212418],\n",
       "       [-0.8370566 ,  2.3529315 ],\n",
       "       [ 0.115836  ,  0.06237672],\n",
       "       [ 1.4498855 ,  1.0440431 ],\n",
       "       [-1.1229243 , -1.6034813 ],\n",
       "       [-0.55118877,  2.4124265 ],\n",
       "       [-1.6946597 ,  0.1516191 ],\n",
       "       [ 1.9263319 , -0.65156245],\n",
       "       [ 2.0216212 ,  0.5680836 ],\n",
       "       [-0.17003176,  2.2339416 ],\n",
       "       [-0.64647806,  1.4605075 ],\n",
       "       [ 0.115836  ,  1.5794975 ],\n",
       "       [ 0.3064145 , -0.53257257],\n",
       "       [-0.64647806,  0.21111403],\n",
       "       [ 1.1640178 ,  0.5680836 ],\n",
       "       [-1.408792  , -0.175603  ],\n",
       "       [ 1.3545963 , -1.4249965 ],\n",
       "       [ 0.40170375,  1.1630329 ],\n",
       "       [ 0.78286076, -1.2167642 ],\n",
       "       [ 0.87815   , -1.3655016 ],\n",
       "       [ 0.02054675, -0.56232005],\n",
       "       [-1.408792  , -0.62181497],\n",
       "       [ 0.21112525, -0.3540878 ],\n",
       "       [-0.07474251, -0.4135827 ],\n",
       "       [-0.8370566 ,  0.3301039 ],\n",
       "       [-0.55118877, -1.514239  ],\n",
       "       [ 0.115836  ,  0.06237672],\n",
       "       [-0.26532102,  0.2408615 ],\n",
       "       [-0.17003176, -0.2648454 ],\n",
       "       [-0.17003176,  1.6687398 ],\n",
       "       [-0.9323458 ,  1.6092448 ],\n",
       "       [-0.26532102,  0.8358108 ],\n",
       "       [ 0.87815   , -1.0382795 ],\n",
       "       [-0.9323458 , -0.4135827 ],\n",
       "       [-0.07474251,  0.3301039 ],\n",
       "       [-1.0276351 ,  2.0257094 ],\n",
       "       [ 0.02054675, -0.4135827 ]], dtype=float32)"
      ]
     },
     "execution_count": 27,
     "metadata": {},
     "output_type": "execute_result"
    }
   ],
   "source": [
    "X_set[y_set == 1, 0]"
   ]
  },
  {
   "cell_type": "code",
   "execution_count": 22,
   "metadata": {},
   "outputs": [
    {
     "name": "stderr",
     "output_type": "stream",
     "text": [
      "'c' argument looks like a single numeric RGB or RGBA sequence, which should be avoided as value-mapping will have precedence in case its length matches with 'x' & 'y'.  Please use a 2-D array with a single row if you really want to specify the same RGB or RGBA value for all points.\n",
      "'c' argument looks like a single numeric RGB or RGBA sequence, which should be avoided as value-mapping will have precedence in case its length matches with 'x' & 'y'.  Please use a 2-D array with a single row if you really want to specify the same RGB or RGBA value for all points.\n"
     ]
    },
    {
     "data": {
      "image/png": "[encoded data removed]",
      "text/plain": [
       "<Figure size 432x288 with 1 Axes>"
      ]
     },
     "metadata": {
      "needs_background": "light"
     },
     "output_type": "display_data"
    }
   ],
   "source": [
    "for i, j in enumerate(np.unique(y_set)): #인덱스랑 같이 보여주는게 enumerate\n",
    "    #for i, j in [(0, 0.0), (1, 1.0)]:\n",
    "    plt.scatter(X_set[y_set == j, 0] #첫번째 열에 \n",
    "                , X_set[y_set == j, 1], c=ListedColormap(('red', 'green'))(i), label=j)\n",
    "\n",
    "plt.title('Random Forest Classification')\n",
    "plt.xlabel('Age')\n",
    "plt.ylabel('Estimated Salary')\n",
    "plt.legend()\n",
    "plt.show()"
   ]
  },
  {
   "cell_type": "code",
   "execution_count": 32,
   "metadata": {
    "scrolled": true
   },
   "outputs": [
    {
     "name": "stderr",
     "output_type": "stream",
     "text": [
      "'c' argument looks like a single numeric RGB or RGBA sequence, which should be avoided as value-mapping will have precedence in case its length matches with 'x' & 'y'.  Please use a 2-D array with a single row if you really want to specify the same RGB or RGBA value for all points.\n",
      "'c' argument looks like a single numeric RGB or RGBA sequence, which should be avoided as value-mapping will have precedence in case its length matches with 'x' & 'y'.  Please use a 2-D array with a single row if you really want to specify the same RGB or RGBA value for all points.\n"
     ]
    },
    {
     "data": {
      "image/png": "[encoded data removed]",
      "text/plain": [
       "<Figure size 1080x1080 with 1 Axes>"
      ]
     },
     "metadata": {
      "needs_background": "light"
     },
     "output_type": "display_data"
    }
   ],
   "source": [
    "from matplotlib.colors import ListedColormap\n",
    "\n",
    "plt.figure(figsize=(15,15))\n",
    "\n",
    "X_set, y_set = xtr_sc, ytr\n",
    "\n",
    "X1, X2 = np.meshgrid(np.arange(start=X_set[:,0].min() - 1, stop=X_set[:, 0].max() + 1, step=0.01),\n",
    "                                 np.arange(start=X_set[:,1].min() - 1, stop=X_set[:,1].max() + 1, step=0.01))\n",
    "\n",
    "XX = np.c_[X1.ravel(), X2.ravel()]\n",
    "Y = clf.predict(XX)\n",
    "\n",
    "plt.contourf(X1, X2, Y.reshape(X1.shape), alpha=0.5, cmap=ListedColormap(('red', 'green')))\n",
    "\n",
    "plt.xlim(X1.min(), X1.max())\n",
    "plt.ylim(X2.min(), X2.max())\n",
    "\n",
    "for i, j in enumerate(np.unique(y_set)):\n",
    "    plt.scatter(X_set[y_set == j, 0], X_set[y_set == j, 1], c=ListedColormap(('red', 'green'))(i), label=j)\n",
    "\n",
    "plt.title('Random Forest Classification')\n",
    "plt.xlabel('Age')\n",
    "plt.ylabel('Estimated Salary')\n",
    "plt.legend()\n",
    "plt.show()"
   ]
  },
  {
   "cell_type": "code",
   "execution_count": 33,
   "metadata": {},
   "outputs": [
    {
     "data": {
      "text/plain": [
       "GradientBoostingClassifier(criterion='friedman_mse', init=None,\n",
       "              learning_rate=0.1, loss='deviance', max_depth=5,\n",
       "              max_features=None, max_leaf_nodes=None,\n",
       "              min_impurity_decrease=0.0, min_impurity_split=None,\n",
       "              min_samples_leaf=1, min_samples_split=2,\n",
       "              min_weight_fraction_leaf=0.0, n_estimators=500,\n",
       "              n_iter_no_change=None, presort='auto', random_state=None,\n",
       "              subsample=1.0, tol=0.0001, validation_fraction=0.1,\n",
       "              verbose=0, warm_start=False)"
      ]
     },
     "execution_count": 33,
     "metadata": {},
     "output_type": "execute_result"
    }
   ],
   "source": [
    "from sklearn.ensemble import GradientBoostingClassifier\n",
    "\n",
    "gbclassifier = GradientBoostingClassifier(learning_rate=0.1, n_estimators=500, max_depth=5)\n",
    "gbclassifier.fit(xtr, ytr)"
   ]
  },
  {
   "cell_type": "code",
   "execution_count": 34,
   "metadata": {},
   "outputs": [
    {
     "name": "stderr",
     "output_type": "stream",
     "text": [
      "'c' argument looks like a single numeric RGB or RGBA sequence, which should be avoided as value-mapping will have precedence in case its length matches with 'x' & 'y'.  Please use a 2-D array with a single row if you really want to specify the same RGB or RGBA value for all points.\n",
      "'c' argument looks like a single numeric RGB or RGBA sequence, which should be avoided as value-mapping will have precedence in case its length matches with 'x' & 'y'.  Please use a 2-D array with a single row if you really want to specify the same RGB or RGBA value for all points.\n"
     ]
    },
    {
     "data": {
      "image/png": "[encoded data removed]",
      "text/plain": [
       "<Figure size 1080x1080 with 1 Axes>"
      ]
     },
     "metadata": {
      "needs_background": "light"
     },
     "output_type": "display_data"
    }
   ],
   "source": [
    "from matplotlib.colors import ListedColormap\n",
    "\n",
    "plt.figure(figsize=(15,15))\n",
    "\n",
    "X_set, y_set = xtr_sc, ytr\n",
    "\n",
    "X1, X2 = np.meshgrid(np.arange(start=X_set[:,0].min() - 1, stop=X_set[:, 0].max() + 1, step=0.01),\n",
    "                                 np.arange(start=X_set[:,1].min() - 1, stop=X_set[:,1].max() + 1, step=0.01))\n",
    "\n",
    "XX = np.c_[X1.ravel(), X2.ravel()]\n",
    "Y = gbclassifier.predict(XX)\n",
    "\n",
    "plt.contourf(X1, X2, Y.reshape(X1.shape), alpha=0.5, cmap=ListedColormap(('red', 'green')))\n",
    "\n",
    "plt.xlim(X1.min(), X1.max())\n",
    "plt.ylim(X2.min(), X2.max())\n",
    "\n",
    "for i, j in enumerate(np.unique(y_set)):\n",
    "    plt.scatter(X_set[y_set == j, 0], X_set[y_set == j, 1], c=ListedColormap(('red', 'green'))(i), label=j)\n",
    "\n",
    "plt.title('Random Forest Classification')\n",
    "plt.xlabel('Age')\n",
    "plt.ylabel('Estimated Salary')\n",
    "plt.legend()\n",
    "plt.show()"
   ]
  },
  {
   "cell_type": "code",
   "execution_count": 44,
   "metadata": {},
   "outputs": [
    {
     "data": {
      "text/plain": [
       "array([], dtype=float32)"
      ]
     },
     "execution_count": 44,
     "metadata": {},
     "output_type": "execute_result"
    }
   ],
   "source": []
  },
  {
   "cell_type": "code",
   "execution_count": 42,
   "metadata": {},
   "outputs": [
    {
     "data": {
      "text/plain": [
       "<matplotlib.contour.QuadContourSet at 0xd05f128>"
      ]
     },
     "execution_count": 42,
     "metadata": {},
     "output_type": "execute_result"
    },
    {
     "data": {
      "image/png": "[encoded data removed]",
      "text/plain": [
       "<Figure size 576x432 with 1 Axes>"
      ]
     },
     "metadata": {
      "needs_background": "light"
     },
     "output_type": "display_data"
    }
   ],
   "source": [
    "plt.figure(figsize=(8, 6))\n",
    "\n",
    "X_set, y_set = xte_sc, yte\n",
    "X1, X2 = np.meshgrid(np.arange(X_set[:, 0].min() - 1, X_set[:, 0].max() + 1, 0.01),\n",
    "                                 np.arange(X_set[:, 1].min() - 1, X_set[:, 1].max() + 1, 0.01))\n",
    "XX = np.c_[X1.ravel(), X2.ravel()]\n",
    "\n",
    "Y = gbclassifier.predict(XX)\n",
    "\n",
    "plt.contourf(X1, X2, Y.reshape(X1.shape), cmap=ListedColormap(('red', 'green')), alpha=0.5)"
   ]
  },
  {
   "cell_type": "code",
   "execution_count": 41,
   "metadata": {},
   "outputs": [
    {
     "name": "stderr",
     "output_type": "stream",
     "text": [
      "'c' argument looks like a single numeric RGB or RGBA sequence, which should be avoided as value-mapping will have precedence in case its length matches with 'x' & 'y'.  Please use a 2-D array with a single row if you really want to specify the same RGB or RGBA value for all points.\n",
      "'c' argument looks like a single numeric RGB or RGBA sequence, which should be avoided as value-mapping will have precedence in case its length matches with 'x' & 'y'.  Please use a 2-D array with a single row if you really want to specify the same RGB or RGBA value for all points.\n"
     ]
    },
    {
     "data": {
      "image/png": "[encoded data removed]",
      "text/plain": [
       "<Figure size 576x432 with 1 Axes>"
      ]
     },
     "metadata": {
      "needs_background": "light"
     },
     "output_type": "display_data"
    }
   ],
   "source": [
    "for i, j in enumerate([0, 1]):\n",
    "    plt.scatter(X_set[y_set == j, 0], X_set[y_set == j, 1], c=ListedColormap(('red', 'green'))(i), label=i)\n",
    "    \n",
    "plt.title(\"Gradient Boost Classifier\")\n",
    "plt.legend()\n",
    "plt.ylabel(\"Estimated Salary\")\n",
    "plt.xlabel(\"Age\");"
   ]
  },
  {
   "cell_type": "code",
   "execution_count": null,
   "metadata": {},
   "outputs": [],
   "source": []
  }
 ],
 "metadata": {
  "kernelspec": {
   "display_name": "Python 3",
   "language": "python",
   "name": "python3"
  },
  "language_info": {
   "codemirror_mode": {
    "name": "ipython",
    "version": 3
   },
   "file_extension": ".py",
   "mimetype": "text/x-python",
   "name": "python",
   "nbconvert_exporter": "python",
   "pygments_lexer": "ipython3",
   "version": "3.7.3"
  }
 },
 "nbformat": 4,
 "nbformat_minor": 2
}
